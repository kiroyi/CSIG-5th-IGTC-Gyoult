{
 "cells": [
  {
   "cell_type": "code",
   "execution_count": 1,
   "metadata": {},
   "outputs": [],
   "source": [
    "# 导入包\n",
    "import pandas as pd\n",
    "import numpy as np\n",
    "import matplotlib.pyplot as plt\n",
    "import sys\n",
    "import zipfile\n",
    "import pickle\n",
    "from collections import defaultdict\n",
    "from tqdm import tqdm\n",
    "\n",
    "# 导入自定义包\n",
    "sys.path.append(\"work\")\n",
    "from candle2 import Canva"
   ]
  },
  {
   "attachments": {},
   "cell_type": "markdown",
   "metadata": {},
   "source": [
    "# 数据读取"
   ]
  },
  {
   "cell_type": "code",
   "execution_count": 2,
   "metadata": {},
   "outputs": [],
   "source": [
    "# 指定文件路径\n",
    "zip_file_path = 'data/data285396/初赛数据集.zip'\n",
    "train_file_name = '数据集/初赛-训练集.csv'\n",
    "test_file_name = '数据集/初赛-测试集.csv'\n",
    "\n",
    "# 打开zip文件\n",
    "with zipfile.ZipFile(zip_file_path) as z:\n",
    "    with z.open(train_file_name) as f:\n",
    "        train_df = pd.read_csv(f, encoding=\"gbk\")"
   ]
  },
  {
   "attachments": {},
   "cell_type": "markdown",
   "metadata": {},
   "source": [
    "# 数据预处理"
   ]
  },
  {
   "cell_type": "code",
   "execution_count": 3,
   "metadata": {},
   "outputs": [],
   "source": [
    "# 计算移动平均线\n",
    "train_df['MA_5'] = train_df.groupby('股票')['收盘价'].transform(lambda x: x.rolling(window=5, min_periods=1).mean())\n",
    "train_df['MA_10'] = train_df.groupby('股票')['收盘价'].transform(lambda x: x.rolling(window=10, min_periods=1).mean())\n",
    "train_df['MA_20'] = train_df.groupby('股票')['收盘价'].transform(lambda x: x.rolling(window=20, min_periods=1).mean())\n",
    "train_df['MA_30'] = train_df.groupby('股票')['收盘价'].transform(lambda x: x.rolling(window=30, min_periods=1).mean())\n",
    "\n",
    "# 计算成交量的移动平均\n",
    "train_df['Volume_MA_5'] = train_df.groupby('股票')['成交量'].transform(lambda x: x.rolling(window=5, min_periods=1).mean())\n",
    "train_df['Volume_MA_10'] = train_df.groupby('股票')['成交量'].transform(lambda x: x.rolling(window=10, min_periods=1).mean())\n",
    "\n",
    "# 计算换手率\n",
    "train_df['换手率'] = (train_df['成交量'] / 10000) * 100  # 假设流通股总数为 10,000，具体可根据实际情况调整\n",
    "\n",
    "# 计算 MACD\n",
    "train_df['EMA_12'] = train_df.groupby('股票')['收盘价'].transform(lambda x: x.ewm(span=12, adjust=False).mean())\n",
    "train_df['EMA_26'] = train_df.groupby('股票')['收盘价'].transform(lambda x: x.ewm(span=26, adjust=False).mean())\n",
    "train_df['DIFF'] = train_df['EMA_12'] - train_df['EMA_26']\n",
    "train_df['DEA'] = train_df.groupby('股票')['DIFF'].transform(lambda x: x.ewm(span=9, adjust=False).mean())\n",
    "train_df['MACD Histogram'] = train_df['DIFF'] - train_df['DEA']\n",
    "\n",
    "# 按照赛方的公式计算标签，这样计算的标签不会使用到未来数据\n",
    "close_t_6 = train_df.groupby('股票')['收盘价'].shift(-6)\n",
    "close_t_1 = train_df.groupby('股票')['收盘价'].shift(-1)\n",
    "\n",
    "train_df['label'] = (close_t_6 - close_t_1) / close_t_1"
   ]
  },
  {
   "attachments": {},
   "cell_type": "markdown",
   "metadata": {},
   "source": [
    "# 对数据分组并保存"
   ]
  },
  {
   "cell_type": "code",
   "execution_count": 4,
   "metadata": {},
   "outputs": [],
   "source": [
    "# 这里的 grouper 通过日期代码的差值来分组，由于周一到周五的日期代码差值都是1，所以周一到周五的组别是一样的\n",
    "# 而周五到下周一的日期代码差值不是1，所以能将其分到下一组\n",
    "grouper = pd.DataFrame([train_df[\"日期代码\"].unique(), pd.Series((np.diff(train_df[\"日期代码\"].unique()) != 1).cumsum()).shift(1)]).T.bfill().ffill()\n",
    "# grouper = pd.DataFrame([train_df[\"日期代码\"].unique(), pd.Series(np.arange(len(train_df[\"日期代码\"].unique())) // 20)]).T.bfill().ffill()\n",
    "\n",
    "grouper.columns = ['日期代码', '组别']\n",
    "merged_train = pd.merge(train_df, grouper, on='日期代码', how='left')\n",
    "\n",
    "# 更改列名\n",
    "merged_train.columns = ['Stock_name', 'Data_time', 'Open', 'High', 'Low', 'Close', 'Volume', 'Money', 'MA_5', 'MA_10', 'MA_20', 'MA_30', 'Volume_MA_5', 'Volume_MA_10', 'Trunover', 'EMA_12', 'EMA_26', 'DIFF', 'DEA', 'MACD Histogram', 'Label', 'Group']\n",
    "\n",
    "grouped_train = merged_train.groupby(['Stock_name', 'Group'])"
   ]
  },
  {
   "cell_type": "code",
   "execution_count": 5,
   "metadata": {},
   "outputs": [
    {
     "name": "stderr",
     "output_type": "stream",
     "text": [
      "  0%|          | 3721/1081000 [00:13<1:03:43, 281.72it/s]\n"
     ]
    },
    {
     "ename": "KeyboardInterrupt",
     "evalue": "",
     "output_type": "error",
     "traceback": [
      "\u001b[0;31m---------------------------------------------------------------------------\u001b[0m",
      "\u001b[0;31mKeyboardInterrupt\u001b[0m                         Traceback (most recent call last)",
      "Cell \u001b[0;32mIn[5], line 9\u001b[0m\n\u001b[1;32m      5\u001b[0m \u001b[39m# 遍历分组结果并存储在 defaultdict 中\u001b[39;00m\n\u001b[1;32m      6\u001b[0m \u001b[39m# 这里的分组是按周分组，分组得到的 sub_df 包含每只股票每周 5 天的量价数据\u001b[39;00m\n\u001b[1;32m      7\u001b[0m \u001b[39mfor\u001b[39;00m (stock, group), sub_df \u001b[39min\u001b[39;00m tqdm(grouped_train):\n\u001b[1;32m      8\u001b[0m     \u001b[39m# 日期标准化\u001b[39;00m\n\u001b[0;32m----> 9\u001b[0m     sub_df[\u001b[39m'\u001b[39;49m\u001b[39mData_time\u001b[39;49m\u001b[39m'\u001b[39;49m] \u001b[39m=\u001b[39m pd\u001b[39m.\u001b[39mdate_range(\u001b[39m'\u001b[39m\u001b[39m1/10/2021\u001b[39m\u001b[39m'\u001b[39m, periods\u001b[39m=\u001b[39m\u001b[39mlen\u001b[39m(sub_df), freq\u001b[39m=\u001b[39m\u001b[39m'\u001b[39m\u001b[39mD\u001b[39m\u001b[39m'\u001b[39m)\n\u001b[1;32m     10\u001b[0m     \u001b[39m# 设置日期索引\u001b[39;00m\n\u001b[1;32m     11\u001b[0m     sub_df\u001b[39m.\u001b[39mset_index(\u001b[39m'\u001b[39m\u001b[39mData_time\u001b[39m\u001b[39m'\u001b[39m, inplace\u001b[39m=\u001b[39m\u001b[39mTrue\u001b[39;00m)\n",
      "File \u001b[0;32m/opt/conda/envs/python35-paddle120-env/lib/python3.10/site-packages/pandas/core/frame.py:4311\u001b[0m, in \u001b[0;36mDataFrame.__setitem__\u001b[0;34m(self, key, value)\u001b[0m\n\u001b[1;32m   4308\u001b[0m     \u001b[39mself\u001b[39m\u001b[39m.\u001b[39m_setitem_array([key], value)\n\u001b[1;32m   4309\u001b[0m \u001b[39melse\u001b[39;00m:\n\u001b[1;32m   4310\u001b[0m     \u001b[39m# set column\u001b[39;00m\n\u001b[0;32m-> 4311\u001b[0m     \u001b[39mself\u001b[39;49m\u001b[39m.\u001b[39;49m_set_item(key, value)\n",
      "File \u001b[0;32m/opt/conda/envs/python35-paddle120-env/lib/python3.10/site-packages/pandas/core/frame.py:4538\u001b[0m, in \u001b[0;36mDataFrame._set_item\u001b[0;34m(self, key, value)\u001b[0m\n\u001b[1;32m   4535\u001b[0m             value \u001b[39m=\u001b[39m np\u001b[39m.\u001b[39mtile(value, (\u001b[39mlen\u001b[39m(existing_piece\u001b[39m.\u001b[39mcolumns), \u001b[39m1\u001b[39m))\u001b[39m.\u001b[39mT\n\u001b[1;32m   4536\u001b[0m             refs \u001b[39m=\u001b[39m \u001b[39mNone\u001b[39;00m\n\u001b[0;32m-> 4538\u001b[0m \u001b[39mself\u001b[39;49m\u001b[39m.\u001b[39;49m_set_item_mgr(key, value, refs)\n",
      "File \u001b[0;32m/opt/conda/envs/python35-paddle120-env/lib/python3.10/site-packages/pandas/core/frame.py:4490\u001b[0m, in \u001b[0;36mDataFrame._set_item_mgr\u001b[0;34m(self, key, value, refs)\u001b[0m\n\u001b[1;32m   4488\u001b[0m     \u001b[39mself\u001b[39m\u001b[39m.\u001b[39m_mgr\u001b[39m.\u001b[39minsert(\u001b[39mlen\u001b[39m(\u001b[39mself\u001b[39m\u001b[39m.\u001b[39m_info_axis), key, value, refs)\n\u001b[1;32m   4489\u001b[0m \u001b[39melse\u001b[39;00m:\n\u001b[0;32m-> 4490\u001b[0m     \u001b[39mself\u001b[39;49m\u001b[39m.\u001b[39;49m_iset_item_mgr(loc, value, refs\u001b[39m=\u001b[39;49mrefs)\n\u001b[1;32m   4492\u001b[0m \u001b[39m# check if we are modifying a copy\u001b[39;00m\n\u001b[1;32m   4493\u001b[0m \u001b[39m# try to set first as we want an invalid\u001b[39;00m\n\u001b[1;32m   4494\u001b[0m \u001b[39m# value exception to occur first\u001b[39;00m\n\u001b[1;32m   4495\u001b[0m \u001b[39mif\u001b[39;00m \u001b[39mlen\u001b[39m(\u001b[39mself\u001b[39m):\n",
      "File \u001b[0;32m/opt/conda/envs/python35-paddle120-env/lib/python3.10/site-packages/pandas/core/frame.py:4478\u001b[0m, in \u001b[0;36mDataFrame._iset_item_mgr\u001b[0;34m(self, loc, value, inplace, refs)\u001b[0m\n\u001b[1;32m   4470\u001b[0m \u001b[39mdef\u001b[39;00m \u001b[39m_iset_item_mgr\u001b[39m(\n\u001b[1;32m   4471\u001b[0m     \u001b[39mself\u001b[39m,\n\u001b[1;32m   4472\u001b[0m     loc: \u001b[39mint\u001b[39m \u001b[39m|\u001b[39m \u001b[39mslice\u001b[39m \u001b[39m|\u001b[39m np\u001b[39m.\u001b[39mndarray,\n\u001b[0;32m   (...)\u001b[0m\n\u001b[1;32m   4476\u001b[0m ) \u001b[39m-\u001b[39m\u001b[39m>\u001b[39m \u001b[39mNone\u001b[39;00m:\n\u001b[1;32m   4477\u001b[0m     \u001b[39m# when called from _set_item_mgr loc can be anything returned from get_loc\u001b[39;00m\n\u001b[0;32m-> 4478\u001b[0m     \u001b[39mself\u001b[39;49m\u001b[39m.\u001b[39;49m_mgr\u001b[39m.\u001b[39;49miset(loc, value, inplace\u001b[39m=\u001b[39;49minplace, refs\u001b[39m=\u001b[39;49mrefs)\n\u001b[1;32m   4479\u001b[0m     \u001b[39mself\u001b[39m\u001b[39m.\u001b[39m_clear_item_cache()\n",
      "File \u001b[0;32m/opt/conda/envs/python35-paddle120-env/lib/python3.10/site-packages/pandas/core/internals/managers.py:1091\u001b[0m, in \u001b[0;36mBlockManager.iset\u001b[0;34m(self, loc, value, inplace, refs)\u001b[0m\n\u001b[1;32m   1088\u001b[0m     \u001b[39melse\u001b[39;00m:\n\u001b[1;32m   1089\u001b[0m         value \u001b[39m=\u001b[39m ensure_block_shape(value, ndim\u001b[39m=\u001b[39m\u001b[39m2\u001b[39m)\n\u001b[0;32m-> 1091\u001b[0m     \u001b[39mif\u001b[39;00m value\u001b[39m.\u001b[39mshape[\u001b[39m1\u001b[39m:] \u001b[39m!=\u001b[39m \u001b[39mself\u001b[39;49m\u001b[39m.\u001b[39;49mshape[\u001b[39m1\u001b[39m:]:\n\u001b[1;32m   1092\u001b[0m         \u001b[39mraise\u001b[39;00m \u001b[39mAssertionError\u001b[39;00m(\n\u001b[1;32m   1093\u001b[0m             \u001b[39m\"\u001b[39m\u001b[39mShape of new values must be compatible with manager shape\u001b[39m\u001b[39m\"\u001b[39m\n\u001b[1;32m   1094\u001b[0m         )\n\u001b[1;32m   1096\u001b[0m \u001b[39mif\u001b[39;00m lib\u001b[39m.\u001b[39mis_integer(loc):\n\u001b[1;32m   1097\u001b[0m     \u001b[39m# We have 6 tests where loc is _not_ an int.\u001b[39;00m\n\u001b[1;32m   1098\u001b[0m     \u001b[39m# In this case, get_blkno_placements will yield only one tuple,\u001b[39;00m\n\u001b[1;32m   1099\u001b[0m     \u001b[39m#  containing (self._blknos[loc], BlockPlacement(slice(0, 1, 1)))\u001b[39;00m\n\u001b[1;32m   1100\u001b[0m \n\u001b[1;32m   1101\u001b[0m     \u001b[39m# Check if we can use _iset_single fastpath\u001b[39;00m\n",
      "File \u001b[0;32m/opt/conda/envs/python35-paddle120-env/lib/python3.10/site-packages/pandas/core/internals/base.py:84\u001b[0m, in \u001b[0;36mDataManager.shape\u001b[0;34m(self)\u001b[0m\n\u001b[1;32m     82\u001b[0m \u001b[39m@property\u001b[39m\n\u001b[1;32m     83\u001b[0m \u001b[39mdef\u001b[39;00m \u001b[39mshape\u001b[39m(\u001b[39mself\u001b[39m) \u001b[39m-\u001b[39m\u001b[39m>\u001b[39m Shape:\n\u001b[0;32m---> 84\u001b[0m     \u001b[39mreturn\u001b[39;00m \u001b[39mtuple\u001b[39m(\u001b[39mlen\u001b[39m(ax) \u001b[39mfor\u001b[39;00m ax \u001b[39min\u001b[39;00m \u001b[39mself\u001b[39m\u001b[39m.\u001b[39maxes)\n",
      "\u001b[0;31mKeyboardInterrupt\u001b[0m: "
     ]
    }
   ],
   "source": [
    "# 对预处理后的分组数据保存\n",
    "# 创建二级索引的 defaultdict\n",
    "grouped_dict = defaultdict(dict)\n",
    "\n",
    "# 遍历分组结果并存储在 defaultdict 中\n",
    "# 这里的分组是按周分组，分组得到的 sub_df 包含每只股票每周 5 天的量价数据\n",
    "for (stock, group), sub_df in tqdm(grouped_train):\n",
    "    # mpf绘图时需要标准化的日期\n",
    "    # 日期标准化\n",
    "    sub_df['Data_time'] = pd.date_range('1/10/2021', periods=len(sub_df), freq='D')\n",
    "    # 设置日期索引\n",
    "    sub_df.set_index('Data_time', inplace=True)\n",
    "    if len(sub_df) == 5:\n",
    "        grouped_dict[stock][group] = sub_df"
   ]
  },
  {
   "cell_type": "code",
   "execution_count": null,
   "metadata": {},
   "outputs": [],
   "source": [
    "# 将 grouped_dict 保存为 pickle 文件\n",
    "with open('train_grouped_dict.pkl', 'wb') as f:\n",
    "    pickle.dump(grouped_dict, f)"
   ]
  }
 ],
 "metadata": {
  "kernelspec": {
   "display_name": "Python 3.10.10 ('python35-paddle120-env')",
   "language": "python",
   "name": "python3"
  },
  "language_info": {
   "codemirror_mode": {
    "name": "ipython",
    "version": 3
   },
   "file_extension": ".py",
   "mimetype": "text/x-python",
   "name": "python",
   "nbconvert_exporter": "python",
   "pygments_lexer": "ipython3",
   "version": "3.10.10"
  },
  "orig_nbformat": 4,
  "vscode": {
   "interpreter": {
    "hash": "09f0dbf7b1569c1ab842ae2f41770fe6aa1b54326d081112fa5944b99abb5899"
   }
  }
 },
 "nbformat": 4,
 "nbformat_minor": 2
}
