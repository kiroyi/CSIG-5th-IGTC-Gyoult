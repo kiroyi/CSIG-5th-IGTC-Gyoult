{
 "cells": [
  {
   "cell_type": "code",
   "execution_count": 1,
   "metadata": {},
   "outputs": [],
   "source": [
    "# 导入包\n",
    "import pandas as pd\n",
    "import numpy as np\n",
    "import matplotlib.pyplot as plt\n",
    "import sys\n",
    "import zipfile\n",
    "import warnings\n",
    "import json\n",
    "import os\n",
    "from collections import defaultdict\n",
    "from tqdm import tqdm\n",
    "# import mplfinance as mpf\n",
    "import pickle\n",
    "import argparse"
   ]
  },
  {
   "cell_type": "code",
   "execution_count": 3,
   "metadata": {},
   "outputs": [],
   "source": [
    "# 指定文件路径\n",
    "zip_file_path = '../data/data285396/初赛数据集.zip'\n",
    "train_file_name = '数据集/初赛-训练集.csv'\n",
    "test_file_name = '数据集/初赛-测试集.csv'\n",
    "\n",
    "# 打开zip文件\n",
    "with zipfile.ZipFile(zip_file_path) as z:\n",
    "    with z.open(test_file_name) as f:\n",
    "        test_df = pd.read_csv(f, encoding=\"gbk\")\n",
    "\n",
    "\n",
    "# 计算移动平均线\n",
    "test_df['MA_5'] = test_df.groupby('股票')['收盘价'].transform(lambda x: x.rolling(window=5, min_periods=1).mean())\n",
    "test_df['MA_10'] = test_df.groupby('股票')['收盘价'].transform(lambda x: x.rolling(window=10, min_periods=1).mean())\n",
    "test_df['MA_20'] = test_df.groupby('股票')['收盘价'].transform(lambda x: x.rolling(window=20, min_periods=1).mean())\n",
    "test_df['MA_30'] = test_df.groupby('股票')['收盘价'].transform(lambda x: x.rolling(window=30, min_periods=1).mean())\n",
    "\n",
    "# 计算成交量的移动平均\n",
    "test_df['Volume_MA_5'] = test_df.groupby('股票')['成交量'].transform(lambda x: x.rolling(window=5, min_periods=1).mean())\n",
    "test_df['Volume_MA_10'] = test_df.groupby('股票')['成交量'].transform(lambda x: x.rolling(window=10, min_periods=1).mean())\n",
    "\n",
    "# 计算换手率\n",
    "test_df['换手率'] = (test_df['成交量'] / 10000) * 100  # 假设流通股总数为 10,000，具体可根据实际情况调整\n",
    "\n",
    "# 计算 MACD\n",
    "test_df['EMA_12'] = test_df.groupby('股票')['收盘价'].transform(lambda x: x.ewm(span=12, adjust=False).mean())\n",
    "test_df['EMA_26'] = test_df.groupby('股票')['收盘价'].transform(lambda x: x.ewm(span=26, adjust=False).mean())\n",
    "test_df['DIFF'] = test_df['EMA_12'] - test_df['EMA_26']\n",
    "test_df['DEA'] = test_df.groupby('股票')['DIFF'].transform(lambda x: x.ewm(span=9, adjust=False).mean())\n",
    "test_df['MACD Histogram'] = test_df['DIFF'] - test_df['DEA']"
   ]
  },
  {
   "cell_type": "code",
   "execution_count": 4,
   "metadata": {},
   "outputs": [],
   "source": [
    "# 这里的处理逻辑同训练集，仍然是分组\n",
    "grouper = pd.DataFrame([test_df[\"日期代码\"].unique(), pd.Series((np.diff(test_df[\"日期代码\"].unique()) != 1).cumsum()).shift(1)]).T.bfill().ffill()\n",
    "grouper.columns = ['日期代码', '组别']\n",
    "merged_test = pd.merge(test_df, grouper, on='日期代码', how='left')\n",
    "\n",
    "# 更改列名, 相较于训练集，测试集少了Lable\n",
    "merged_test.columns = ['Stock_name', 'Data_time', 'Open', 'High', 'Low', 'Close', 'Volume', 'Money', 'MA_5', 'MA_10', 'MA_20', 'MA_30', 'Volume_MA_5', 'Volume_MA_10', 'Trunover', 'EMA_12', 'EMA_26', 'DIFF', 'DEA', 'MACD Histogram', 'Group']\n",
    "grouped_test = merged_test.groupby(['Stock_name', 'Group'])"
   ]
  },
  {
   "cell_type": "code",
   "execution_count": 7,
   "metadata": {},
   "outputs": [],
   "source": [
    "# 设置分组长度\n",
    "group_length = 5"
   ]
  },
  {
   "cell_type": "code",
   "execution_count": 8,
   "metadata": {},
   "outputs": [
    {
     "name": "stderr",
     "output_type": "stream",
     "text": [
      "100%|██████████| 144685/144685 [02:52<00:00, 838.59it/s] \n"
     ]
    }
   ],
   "source": [
    "\n",
    "# 对于 misshaped_features 的特别处理\n",
    "def prepend_to_five_rows(df):\n",
    "    # 检查DataFrame的行数\n",
    "    current_rows = df.shape[0]\n",
    "    \n",
    "    # 如果行数不足5行，则进行填充\n",
    "    if current_rows < group_length:\n",
    "        # 计算需要填充的行数\n",
    "        rows_to_add = group_length - current_rows\n",
    "        # 使用第一行的数据进行填充\n",
    "        prepend_df = pd.DataFrame([df.iloc[0].to_dict()] * rows_to_add)\n",
    "        df = pd.concat([prepend_df, df], ignore_index=True)\n",
    "    \n",
    "    return df\n",
    "\n",
    "# 遍历分组结果并存储在 defaultdict 中\n",
    "# 对于一周不足 group_length 天的，取上一周数据，补足 group_length 天\n",
    "# 如果上周数据也无法补足，则复制当周第一天数据补足 group_length 天，以保证输出\n",
    "# 这里的逻辑选手可进一步深度优化\n",
    "grouped_dict = defaultdict(dict)\n",
    "# 预先计算每个股票的所有数据\n",
    "stock_dfs = {stock: df.reset_index(drop=True) for stock, df in merged_test.groupby('Stock_name')}\n",
    "cnt = 0\n",
    "for (stock, group), sub_df in tqdm(grouped_test):\n",
    "    if len(sub_df) != group_length:\n",
    "\n",
    "        stock_df = stock_dfs[stock]\n",
    "        sub_first_date = sub_df['Data_time'].values[0]\n",
    "        index = stock_df[stock_df['Data_time'] == sub_first_date].index[0]\n",
    "    \n",
    "        delta_len = group_length - len(sub_df)\n",
    "        \n",
    "        if index >= delta_len:\n",
    "            rows_to_concat = stock_df.iloc[index - delta_len:index]\n",
    "            sub_df = pd.concat([rows_to_concat, sub_df], ignore_index=True)\n",
    "        else:\n",
    "            sub_df = prepend_to_five_rows(sub_df)\n",
    "            \n",
    "    \n",
    "    # mpf绘图时需要标准化的日期\n",
    "    # 日期标准化\n",
    "    sub_df['Data_time'] = pd.date_range('1/10/2021', periods=len(sub_df), freq='D')\n",
    "    # 设置日期索引\n",
    "    sub_df.set_index('Data_time', inplace=True)\n",
    "    \n",
    "    grouped_dict[stock][group] = sub_df\n",
    "    cnt = cnt + 1"
   ]
  },
  {
   "cell_type": "code",
   "execution_count": null,
   "metadata": {},
   "outputs": [],
   "source": [
    "# 将 grouped_dict 保存为 pickle 文件\n",
    "with open('test_grouped_dict.pkl', 'wb') as f:\n",
    "    pickle.dump(grouped_dict, f)"
   ]
  }
 ],
 "metadata": {
  "kernelspec": {
   "display_name": "Python 3.10.10 ('python35-paddle120-env')",
   "language": "python",
   "name": "python3"
  },
  "language_info": {
   "codemirror_mode": {
    "name": "ipython",
    "version": 3
   },
   "file_extension": ".py",
   "mimetype": "text/x-python",
   "name": "python",
   "nbconvert_exporter": "python",
   "pygments_lexer": "ipython3",
   "version": "3.10.10"
  },
  "orig_nbformat": 4,
  "vscode": {
   "interpreter": {
    "hash": "09f0dbf7b1569c1ab842ae2f41770fe6aa1b54326d081112fa5944b99abb5899"
   }
  }
 },
 "nbformat": 4,
 "nbformat_minor": 2
}
